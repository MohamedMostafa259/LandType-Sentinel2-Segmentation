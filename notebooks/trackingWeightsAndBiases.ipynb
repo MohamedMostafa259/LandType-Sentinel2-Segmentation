{
 "cells": [
  {
   "cell_type": "markdown",
   "id": "0",
   "metadata": {},
   "source": [
    "### Tracking Weights & Biases using Wandb.ai (remote tracking)"
   ]
  },
  {
   "cell_type": "code",
   "execution_count": null,
   "id": "1",
   "metadata": {},
   "outputs": [],
   "source": [
    "!pip install wandb\n"
   ]
  },
  {
   "cell_type": "code",
   "execution_count": null,
   "id": "2",
   "metadata": {},
   "outputs": [],
   "source": [
    "!pip show wandb"
   ]
  },
  {
   "cell_type": "code",
   "execution_count": null,
   "id": "3",
   "metadata": {},
   "outputs": [],
   "source": [
    "!wandb login"
   ]
  },
  {
   "cell_type": "code",
   "execution_count": null,
   "id": "4",
   "metadata": {},
   "outputs": [],
   "source": [
    "# src: https://wandb.ai/mohamedmostafa9557-egypt-university-of-informatics/satellite-segmentation-dubai-images?product=models\n",
    "\n",
    "# This script needs these libraries to be installed:\n",
    "#   tensorflow, numpy\n",
    "\n",
    "import wandb\n",
    "from wandb.integration.keras import WandbMetricsLogger\n",
    "\n",
    "import random\n",
    "import numpy as np\n",
    "import tensorflow as tf\n",
    "\n",
    "\n",
    "# Start a run, tracking hyperparameters\n",
    "wandb.init(\n",
    "    # set the wandb project where this run will be logged\n",
    "    project=\"satellite-segmentation-dubai-images\",\n",
    "    name=\"pretrained-model-finetune\",\n",
    "    config={\n",
    "        \"optimizer\": \"Nadam\",\n",
    "        \"loss\": \"categorical_crossentropy\",\n",
    "        \"epochs\": 10,\n",
    "        \"batch_size\": 16 \n",
    "    }\n",
    ")"
   ]
  },
  {
   "cell_type": "code",
   "execution_count": null,
   "id": "5",
   "metadata": {},
   "outputs": [],
   "source": [
    "model = build_unet()\n",
    "\n",
    "model.compile(optimizer='nadam', loss='categorical_crossentropy', metrics=metrics)\n",
    "\n",
    "history = model.fit(X_train, y_train, epochs=2, \n",
    "                    validation_data=(X_test, y_test), \n",
    "                    callbacks=[plot_diagnostics, early_stopping, \n",
    "                               reduce_lr, WandbMetricsLogger()])"
   ]
  }
 ],
 "metadata": {
  "language_info": {
   "name": "python"
  }
 },
 "nbformat": 4,
 "nbformat_minor": 5
}
